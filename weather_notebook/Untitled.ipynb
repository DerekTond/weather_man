{
 "cells": [
  {
   "cell_type": "markdown",
   "metadata": {},
   "source": [
    "# 83为北京\n",
    "# 请求key\n",
    "\n",
    "参数名|类型\n",
    ":--|:--\n",
    "city_id|string\n",
    "weather_date|string"
   ]
  },
  {
   "cell_type": "code",
   "execution_count": 9,
   "metadata": {},
   "outputs": [
    {
     "name": "stdout",
     "output_type": "stream",
     "text": [
      "{'city_id': '83', 'city_name': '北京', 'weather_date': '2016-06-06', 'day_weather': '多云', 'night_weather': '小到中雨', 'day_temp': '31℃', 'night_temp': '19℃', 'day_wind': '无持续风向', 'day_wind_comp': '≤3级', 'night_wind': '无持续风向', 'night_wind_comp': '≤3级', 'day_weather_id': '01', 'night_weather_id': '21'}\n"
     ]
    }
   ],
   "source": [
    "import json, urllib\n",
    "from urllib.parse import urlencode\n",
    "from urllib import request\n",
    "\n",
    "# #配置APPKey\n",
    "# appkey = \"8192b3cdde6539b36603df685a667c5d\"\n",
    "# id = \"83\"\n",
    "# date = \"2019-01-03\"\n",
    "\n",
    "# #1.事件列表\n",
    "# # request_weather(appkey=\"8192b3cdde6539b36603df685a667c5d\", date, id= \"83\", \"GET\")\n",
    " \n",
    "#事件列表\n",
    "def request_weather(date, appkey=\"8192b3cdde6539b36603df685a667c5d\", id= \"83\", m=\"GET\"):\n",
    "    url = \"http://v.juhe.cn/historyWeather/weather\"\n",
    "    #http://v.juhe.cn/historyWeather/weather\n",
    "    params = {\n",
    "        \"key\" : appkey, #应用APPKEY(应用详细页查询)\n",
    "        \"city_id\" : id,\n",
    "        \"weather_date\" : date, #日期，如：2017-07-15\n",
    "\n",
    "    }\n",
    "    params = urlencode(params)\n",
    "    if m ==\"GET\":\n",
    "        f = request.urlopen(\"%s?%s\" % (url, params))\n",
    "    else:\n",
    "        f = request.urlopen(url, params)\n",
    " \n",
    "    content = f.read()\n",
    "    res = json.loads(content)\n",
    "    if res:\n",
    "        error_code = res[\"error_code\"]\n",
    "        if error_code == 0:\n",
    "            #成功请求\n",
    "            print(res[\"result\"])\n",
    "        else:\n",
    "            print(\"%s:%s\" % (res[\"error_code\"],res[\"reason\"]))\n",
    "    else:\n",
    "        print(\"request api error\")\n",
    "\n",
    "        \n",
    "if __name__ == '__main__':\n",
    "    request_weather(\"2016-06-06\")"
   ]
  },
  {
   "cell_type": "code",
   "execution_count": 8,
   "metadata": {},
   "outputs": [
    {
     "name": "stdout",
     "output_type": "stream",
     "text": [
      "{'city_id': '83', 'city_name': '北京', 'weather_date': '2019-01-03', 'day_weather': '多云', 'night_weather': '多云', 'day_temp': '2℃', 'night_temp': '-6℃', 'day_wind': '东北风', 'day_wind_comp': '<3级', 'night_wind': '北风', 'night_wind_comp': '3-4级', 'day_weather_id': '01', 'night_weather_id': '01'}\n"
     ]
    }
   ],
   "source": [
    "print({'city_id': '83', 'city_name': '北京', 'weather_date': '2019-01-03', 'day_weather': '多云', 'night_weather': '多云', 'day_temp': '2℃', 'night_temp': '-6℃', 'day_wind': '东北风', 'day_wind_comp': '<3级', 'night_wind': '北风', 'night_wind_comp': '3-4级', 'day_weather_id': '01', 'night_weather_id': '01'})"
   ]
  },
  {
   "cell_type": "code",
   "execution_count": null,
   "metadata": {},
   "outputs": [],
   "source": [
    "http://v.juhe.cn/historyWeather/weather"
   ]
  },
  {
   "cell_type": "code",
   "execution_count": 2,
   "metadata": {},
   "outputs": [
    {
     "data": {
      "text/plain": [
       "'*'"
      ]
     },
     "execution_count": 2,
     "metadata": {},
     "output_type": "execute_result"
    }
   ],
   "source": [
    "\n",
    "','.join(['*'])"
   ]
  }
 ],
 "metadata": {
  "kernelspec": {
   "display_name": "Python 3",
   "language": "python",
   "name": "python3"
  },
  "language_info": {
   "codemirror_mode": {
    "name": "ipython",
    "version": 3
   },
   "file_extension": ".py",
   "mimetype": "text/x-python",
   "name": "python",
   "nbconvert_exporter": "python",
   "pygments_lexer": "ipython3",
   "version": "3.6.5"
  }
 },
 "nbformat": 4,
 "nbformat_minor": 2
}
